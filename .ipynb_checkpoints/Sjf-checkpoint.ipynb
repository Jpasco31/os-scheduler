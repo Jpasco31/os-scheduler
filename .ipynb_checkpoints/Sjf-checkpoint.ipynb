{
 "cells": [
  {
   "cell_type": "markdown",
   "id": "8a093ac8-8a8e-494c-91ea-0dd2f4a4c4cf",
   "metadata": {},
   "source": [
    "# Shortest Job First scheduling algorithm\n",
    "## Pasco, Jericho C.\n",
    "## Salde, Stella Marie"
   ]
  },
  {
   "cell_type": "code",
   "execution_count": 1,
   "id": "0865e7e2-4242-441e-9211-9af5d40c0f5d",
   "metadata": {},
   "outputs": [],
   "source": [
    "import matplotlib.pyplot as plt"
   ]
  },
  {
   "cell_type": "code",
   "execution_count": 2,
   "id": "d174bdc3-0f7a-4105-b863-e5d9f03b9e45",
   "metadata": {},
   "outputs": [],
   "source": [
    "# SJF Scheduling Function\n",
    "def sjf(process_list):\n",
    "    time = 0\n",
    "    gantt = []\n",
    "    completed = {}\n",
    "    process_timeline = []\n",
    "\n",
    "    total_waiting_time = 0\n",
    "    total_turn_around_time = 0\n",
    "\n",
    "    while process_list:\n",
    "        # Filter available processes that have arrived\n",
    "        available = [process for process in process_list if process[1] <= time]\n",
    "\n",
    "        # No process available, increment time and add idle state\n",
    "        if not available:\n",
    "            time += 1\n",
    "            gantt.append(\"Idle\")\n",
    "            continue\n",
    "\n",
    "        # Sort available processes by burst time\n",
    "        available.sort()\n",
    "        process = available[0]\n",
    "\n",
    "        # Process details\n",
    "        burst_time = process[0]\n",
    "        process_id = process[2]\n",
    "        arrival_time = process[1]\n",
    "\n",
    "        # Start processing the selected job\n",
    "        process_start_time = time\n",
    "        time += burst_time\n",
    "        gantt.append(process_id)\n",
    "        \n",
    "        # Completion, turnaround, and waiting times\n",
    "        completion_time = time\n",
    "        turn_around_time = completion_time - arrival_time\n",
    "        waiting_time = turn_around_time - burst_time\n",
    "        process_list.remove(process)\n",
    "\n",
    "        # Save completed process data\n",
    "        completed[process_id] = [completion_time, turn_around_time, waiting_time]\n",
    "        \n",
    "        # Append to timeline for Gantt chart\n",
    "        process_timeline.append((process_id, process_start_time, burst_time))\n",
    "\n",
    "        total_waiting_time += waiting_time\n",
    "        total_turn_around_time += turn_around_time\n",
    "\n",
    "    # Calculate average waiting and turnaround times\n",
    "    avg_waiting_time = total_waiting_time / len(completed)\n",
    "    avg_turnaround_time = total_turn_around_time / len(completed)\n",
    "\n",
    "    return gantt, completed, process_timeline, avg_waiting_time, avg_turnaround_time"
   ]
  },
  {
   "cell_type": "code",
   "execution_count": 3,
   "id": "04cb3ecc-1627-4578-930f-e8472148620f",
   "metadata": {},
   "outputs": [],
   "source": [
    "# Gantt Chart Plotting Function\n",
    "def plot_gantt_chart(process_timeline, completed):\n",
    "    # Calculate total time as the completion time of the last process\n",
    "    total_time = max(start + duration for _, start, duration in process_timeline)\n",
    "    \n",
    "    fig, ax = plt.subplots(figsize=(10, 3))\n",
    "    \n",
    "    for process_id, start, duration in process_timeline:\n",
    "        ax.broken_barh([(start, duration)], (10, 9), facecolors=('tab:blue'), label=process_id)\n",
    "        ax.text(start + duration / 2, 15, process_id, ha='center', va='center', color='white')\n",
    "        \n",
    "        # Add a vertical line at the completion time\n",
    "        completion_time = start + duration\n",
    "        ax.axvline(completion_time, color='red', linestyle='--')\n",
    "        ax.text(completion_time, 20, f'{completion_time}', ha='center', va='bottom', color='red')\n",
    "\n",
    "    ax.set_ylim(5, 25)\n",
    "    ax.set_xlim(0, total_time)\n",
    "    ax.set_xlabel(\"Time\")\n",
    "    ax.set_yticks([])\n",
    "    ax.set_title(\"Gantt Chart for SJF (Non-preemptive) Scheduling with Completion Times\")\n",
    "\n",
    "    plt.show()"
   ]
  },
  {
   "cell_type": "code",
   "execution_count": 4,
   "id": "010b766f-f8c0-4224-97b2-d74b0bd51e4f",
   "metadata": {},
   "outputs": [],
   "source": [
    "process_list = [[8, 0, \"A\"], [4, 3, \"B\"], [5, 4, \"C\"], [3, 6, \"D\"], [2, 10, \"E\"]]"
   ]
  },
  {
   "cell_type": "code",
   "execution_count": 5,
   "id": "de7d291f-9f85-44e8-8266-31a80da43362",
   "metadata": {},
   "outputs": [],
   "source": [
    "gantt, completed, process_timeline, avg_waiting_time, avg_turnaround_time = sjf(process_list)"
   ]
  },
  {
   "cell_type": "code",
   "execution_count": 6,
   "id": "a7f8e4f2-8543-4591-afdd-0a75f096a193",
   "metadata": {},
   "outputs": [
    {
     "name": "stdout",
     "output_type": "stream",
     "text": [
      "A\n",
      "8\n",
      "\n",
      "A | D\n",
      "8 | 11\n",
      "\n",
      "A | D | E\n",
      "8 | 11 | 13\n",
      "\n",
      "A | D | E | B\n",
      "8 | 11 | 13 | 17\n",
      "\n",
      "A | D | E | B | C\n",
      "8 | 11 | 13 | 17 | 22\n",
      "\n"
     ]
    }
   ],
   "source": [
    "# Display Gantt Chart and completion details\n",
    "for i in range(1, len(completed) + 1):\n",
    "    gantt_display = \" | \".join(gantt[:i])\n",
    "    print(gantt_display)\n",
    "\n",
    "    # Display completion times for each process up to the current one\n",
    "    completion_time_display = \" | \".join(\n",
    "        f\"{completed[process_id][0]}\" for process_id in list(completed.keys())[:i]\n",
    "    )\n",
    "    print(completion_time_display)\n",
    "    print()  # For readability"
   ]
  },
  {
   "cell_type": "code",
   "execution_count": 7,
   "id": "67965407-913d-4d32-ad64-bca8ba07345f",
   "metadata": {},
   "outputs": [
    {
     "name": "stdout",
     "output_type": "stream",
     "text": [
      "Average Waiting Time: 5.2\n",
      "Average Turn Around Time: 9.6\n"
     ]
    }
   ],
   "source": [
    "print(\"Average Waiting Time:\", avg_waiting_time)\n",
    "print(\"Average Turn Around Time:\", avg_turnaround_time)"
   ]
  },
  {
   "cell_type": "code",
   "execution_count": 8,
   "id": "d18fe7fb-f368-4408-a62a-fba0367ee391",
   "metadata": {},
   "outputs": [
    {
     "name": "stdout",
     "output_type": "stream",
     "text": [
      "Completed Processes with Details:\n",
      "Process A: Completion Time = 8, Turn Around Time = 8, Waiting Time = 0\n",
      "Process D: Completion Time = 11, Turn Around Time = 5, Waiting Time = 2\n",
      "Process E: Completion Time = 13, Turn Around Time = 3, Waiting Time = 1\n",
      "Process B: Completion Time = 17, Turn Around Time = 14, Waiting Time = 10\n",
      "Process C: Completion Time = 22, Turn Around Time = 18, Waiting Time = 13\n"
     ]
    }
   ],
   "source": [
    "print(\"Completed Processes with Details:\")\n",
    "for process_id, details in completed.items():\n",
    "    print(f\"Process {process_id}: Completion Time = {details[0]}, Turn Around Time = {details[1]}, Waiting Time = {details[2]}\")\n"
   ]
  },
  {
   "cell_type": "code",
   "execution_count": 9,
   "id": "5947b879-f0ec-4958-8212-1f9390e76b6b",
   "metadata": {},
   "outputs": [
    {
     "data": {
      "image/png": "[encoded data removed]",
      "text/plain": [
       "<Figure size 1000x300 with 1 Axes>"
      ]
     },
     "metadata": {},
     "output_type": "display_data"
    }
   ],
   "source": [
    "# Plot the Gantt chart\n",
    "plot_gantt_chart(process_timeline, completed)"
   ]
  }
 ],
 "metadata": {
  "kernelspec": {
   "display_name": "Python 3 (ipykernel)",
   "language": "python",
   "name": "python3"
  },
  "language_info": {
   "codemirror_mode": {
    "name": "ipython",
    "version": 3
   },
   "file_extension": ".py",
   "mimetype": "text/x-python",
   "name": "python",
   "nbconvert_exporter": "python",
   "pygments_lexer": "ipython3",
   "version": "3.11.7"
  }
 },
 "nbformat": 4,
 "nbformat_minor": 5
}
