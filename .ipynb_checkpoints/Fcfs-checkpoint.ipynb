{
 "cells": [
  {
   "cell_type": "markdown",
   "id": "02e8c0e5-277a-4ea0-9c5b-16889c7f33ea",
   "metadata": {},
   "source": [
    "# First come first serve scheduling algorithm\n",
    "## Pasco, Jericho C.\n",
    "## Salde, Stella Marie"
   ]
  },
  {
   "cell_type": "code",
   "execution_count": 1,
   "id": "9d45aff8-a72b-430e-98c3-d74c94ab9d25",
   "metadata": {},
   "outputs": [],
   "source": [
    "import matplotlib.pyplot as plt"
   ]
  },
  {
   "cell_type": "code",
   "execution_count": 2,
   "id": "fbe4dc3f-95aa-469f-b7a9-45128236b1ce",
   "metadata": {},
   "outputs": [],
   "source": [
    "# FCFS Scheduling Function\n",
    "def fcfs(process_list):\n",
    "    time = 0\n",
    "    gantt = []\n",
    "    completed = {}\n",
    "    process_timeline = []\n",
    "\n",
    "    total_waiting_time = 0\n",
    "    total_turn_around_time = 0\n",
    "\n",
    "    # Sort processes by arrival time\n",
    "    process_list.sort()\n",
    "    \n",
    "    # Processing each process\n",
    "    while process_list:\n",
    "        if process_list[0][0] > time:\n",
    "            time += 1\n",
    "            gantt.append(\"Idle\")\n",
    "            continue\n",
    "        else:\n",
    "            process = process_list.pop(0)\n",
    "            process_id = process[2]\n",
    "            gantt.append(process_id)  # Append process id to Gantt chart\n",
    "            process_start_time = time\n",
    "            time += process[1]\n",
    "            completion_time = time\n",
    "            turn_around_time = completion_time - process[0]\n",
    "            waiting_time = turn_around_time - process[1]\n",
    "            completed[process_id] = [completion_time, turn_around_time, waiting_time]\n",
    "            \n",
    "            # Add to timeline for plotting\n",
    "            process_timeline.append((process_id, process_start_time, process[1]))\n",
    "\n",
    "            total_waiting_time += waiting_time\n",
    "            total_turn_around_time += turn_around_time\n",
    "\n",
    "    # Calculate averages\n",
    "    average_waiting_time = total_waiting_time / len(completed)\n",
    "    average_turn_around_time = total_turn_around_time / len(completed)\n",
    "\n",
    "    return gantt, completed, process_timeline, average_waiting_time, average_turn_around_time"
   ]
  },
  {
   "cell_type": "code",
   "execution_count": 3,
   "id": "4d45b0e9-ea4a-44aa-940f-0ea17a864933",
   "metadata": {},
   "outputs": [],
   "source": [
    "# Gantt Chart Plotting Function\n",
    "def plot_gantt_chart(process_timeline, completed):\n",
    "    # Calculate total time as the completion time of the last process\n",
    "    total_time = max(start + duration for _, start, duration in process_timeline)\n",
    "    \n",
    "    fig, ax = plt.subplots(figsize=(10, 3))\n",
    "    \n",
    "    for process_id, start, duration in process_timeline:\n",
    "        ax.broken_barh([(start, duration)], (10, 9), facecolors=('tab:blue'), label=process_id)\n",
    "        ax.text(start + duration / 2, 15, process_id, ha='center', va='center', color='white')\n",
    "        \n",
    "        # Add a vertical line at the completion time\n",
    "        completion_time = start + duration\n",
    "        ax.axvline(completion_time, color='red', linestyle='--')\n",
    "        ax.text(completion_time, 20, f'{completion_time}', ha='center', va='bottom', color='red')\n",
    "\n",
    "    ax.set_ylim(5, 25)\n",
    "    ax.set_xlim(0, total_time)\n",
    "    ax.set_xlabel(\"Time\")\n",
    "    ax.set_yticks([])\n",
    "    ax.set_title(\"Gantt Chart for FCFS Scheduling with Completion Times\")\n",
    "\n",
    "    plt.show()"
   ]
  },
  {
   "cell_type": "code",
   "execution_count": 4,
   "id": "9d3edc3b-4694-4dbe-b790-637184d579a6",
   "metadata": {},
   "outputs": [],
   "source": [
    "process_list = [[0, 8, \"A\"], [3, 4, \"B\"], [4, 5, \"C\"], [6, 3, \"D\"], [10, 2, \"E\"]]"
   ]
  },
  {
   "cell_type": "code",
   "execution_count": 5,
   "id": "a0fcecd1-145b-496b-ab1e-fc531636504f",
   "metadata": {},
   "outputs": [],
   "source": [
    "gantt, completed, process_timeline, avg_waiting_time, avg_turnaround_time = fcfs(process_list)"
   ]
  },
  {
   "cell_type": "code",
   "execution_count": 6,
   "id": "9cd69790-f9d8-4b6f-b7f3-cb004a756929",
   "metadata": {},
   "outputs": [
    {
     "name": "stdout",
     "output_type": "stream",
     "text": [
      "A\n",
      "8\n",
      "\n",
      "A | B\n",
      "8 | 12\n",
      "\n",
      "A | B | C\n",
      "8 | 12 | 17\n",
      "\n",
      "A | B | C | D\n",
      "8 | 12 | 17 | 20\n",
      "\n",
      "A | B | C | D | E\n",
      "8 | 12 | 17 | 20 | 22\n",
      "\n"
     ]
    }
   ],
   "source": [
    "# Print Gantt Chart and completion details\n",
    "for i in range(1, len(completed) + 1):\n",
    "    gantt_display = \" | \".join(gantt[:i])\n",
    "    print(gantt_display)\n",
    "\n",
    "    # Print the completion times for each process up to the current one\n",
    "    completion_time_display = \" | \".join(\n",
    "        f\"{completed[process_id][0]}\" for process_id in list(completed.keys())[:i]\n",
    "    )\n",
    "    print(completion_time_display)\n",
    "    print()  # Add a newline for readability\n"
   ]
  },
  {
   "cell_type": "code",
   "execution_count": 7,
   "id": "6c5e0453-d52a-4543-a5ba-525373b3813f",
   "metadata": {},
   "outputs": [
    {
     "name": "stdout",
     "output_type": "stream",
     "text": [
      "Average Waiting Time: 6.8\n",
      "Average Turn Around Time: 11.2\n"
     ]
    }
   ],
   "source": [
    "print(\"Average Waiting Time:\", avg_waiting_time)\n",
    "print(\"Average Turn Around Time:\", avg_turnaround_time)"
   ]
  },
  {
   "cell_type": "code",
   "execution_count": 8,
   "id": "06122f61-4ecd-4872-bd78-7e4bf0f8828e",
   "metadata": {},
   "outputs": [
    {
     "name": "stdout",
     "output_type": "stream",
     "text": [
      "Completed Processes with Details:\n",
      "Process A: Completion Time = 8, Turn Around Time = 8, Waiting Time = 0\n",
      "Process B: Completion Time = 12, Turn Around Time = 9, Waiting Time = 5\n",
      "Process C: Completion Time = 17, Turn Around Time = 13, Waiting Time = 8\n",
      "Process D: Completion Time = 20, Turn Around Time = 14, Waiting Time = 11\n",
      "Process E: Completion Time = 22, Turn Around Time = 12, Waiting Time = 10\n"
     ]
    }
   ],
   "source": [
    "print(\"Completed Processes with Details:\")\n",
    "for process_id, details in completed.items():\n",
    "    print(f\"Process {process_id}: Completion Time = {details[0]}, Turn Around Time = {details[1]}, Waiting Time = {details[2]}\")"
   ]
  },
  {
   "cell_type": "code",
   "execution_count": 9,
   "id": "6f464109-9abe-419d-a448-f69e1bc61689",
   "metadata": {},
   "outputs": [
    {
     "data": {
      "image/png": "[encoded data removed]",
      "text/plain": [
       "<Figure size 1000x300 with 1 Axes>"
      ]
     },
     "metadata": {},
     "output_type": "display_data"
    }
   ],
   "source": [
    "# Plot the Gantt chart\n",
    "plot_gantt_chart(process_timeline, completed)"
   ]
  }
 ],
 "metadata": {
  "kernelspec": {
   "display_name": "Python 3 (ipykernel)",
   "language": "python",
   "name": "python3"
  },
  "language_info": {
   "codemirror_mode": {
    "name": "ipython",
    "version": 3
   },
   "file_extension": ".py",
   "mimetype": "text/x-python",
   "name": "python",
   "nbconvert_exporter": "python",
   "pygments_lexer": "ipython3",
   "version": "3.11.7"
  }
 },
 "nbformat": 4,
 "nbformat_minor": 5
}
