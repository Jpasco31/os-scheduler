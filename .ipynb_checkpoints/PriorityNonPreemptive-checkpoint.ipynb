{
 "cells": [
  {
   "cell_type": "markdown",
   "id": "5d11c0e3-a2c2-44e2-908a-c982bfecdaf3",
   "metadata": {},
   "source": [
    "# Priority scheduling (non-preemptive) scheduling algorithm\n",
    "## Pasco, Jericho C.\n",
    "## Salde, Stella Marie"
   ]
  },
  {
   "cell_type": "code",
   "execution_count": 1,
   "id": "9283529a-7d73-405f-a1bc-3ec8445d9144",
   "metadata": {},
   "outputs": [],
   "source": [
    "import matplotlib.pyplot as plt"
   ]
  },
  {
   "cell_type": "code",
   "execution_count": 2,
   "id": "0e376fff-6d14-43da-bfb7-f5ee18f6d432",
   "metadata": {},
   "outputs": [],
   "source": [
    "# Priority Scheduling Function (Non-preemptive)\n",
    "def priority(process_list):\n",
    "    time = 0\n",
    "    gantt = []\n",
    "    completed = {}\n",
    "    process_timeline = []\n",
    "\n",
    "    total_waiting_time = 0\n",
    "    total_turn_around_time = 0\n",
    "\n",
    "    while process_list:\n",
    "        # Filter processes that have arrived\n",
    "        available = [process for process in process_list if process[3] <= time]\n",
    "\n",
    "        # If no process is available, increment time and continue\n",
    "        if not available:\n",
    "            time += 1\n",
    "            gantt.append(\"Idle\")\n",
    "            continue\n",
    "\n",
    "        # Sort available processes by priority (lower value = higher priority)\n",
    "        available.sort()\n",
    "        process = available[0]\n",
    "\n",
    "        # Remove the selected process from the list\n",
    "        process_list.remove(process)\n",
    "\n",
    "        # Process details\n",
    "        process_id = process[1]\n",
    "        burst_time = process[2]\n",
    "        arrival_time = process[3]\n",
    "\n",
    "        # Update time and calculate metrics\n",
    "        process_start_time = time\n",
    "        time += burst_time\n",
    "        completion_time = time\n",
    "        turn_around_time = completion_time - arrival_time\n",
    "        waiting_time = turn_around_time - burst_time\n",
    "\n",
    "        # Record completion details\n",
    "        completed[process_id] = [completion_time, turn_around_time, waiting_time]\n",
    "        process_timeline.append((process_id, process_start_time, burst_time))\n",
    "\n",
    "        gantt.append(process_id)\n",
    "        total_waiting_time += waiting_time\n",
    "        total_turn_around_time += turn_around_time\n",
    "\n",
    "    # Calculate averages\n",
    "    avg_waiting_time = total_waiting_time / len(completed)\n",
    "    avg_turnaround_time = total_turn_around_time / len(completed)\n",
    "\n",
    "    return gantt, completed, process_timeline, avg_waiting_time, avg_turnaround_time"
   ]
  },
  {
   "cell_type": "code",
   "execution_count": 3,
   "id": "d65f8914-7d84-4cfa-aa52-76560581164c",
   "metadata": {},
   "outputs": [],
   "source": [
    "# Gantt Chart Plotting Function\n",
    "def plot_gantt_chart(process_timeline, completed):\n",
    "    # Calculate total time as the completion time of the last process\n",
    "    total_time = max(start + duration for _, start, duration in process_timeline)\n",
    "    \n",
    "    fig, ax = plt.subplots(figsize=(10, 3))\n",
    "    \n",
    "    for process_id, start, duration in process_timeline:\n",
    "        ax.broken_barh([(start, duration)], (10, 9), facecolors=('tab:blue'))\n",
    "        ax.text(start + duration / 2, 15, process_id, ha='center', va='center', color='white')\n",
    "        \n",
    "        # Add a vertical line at the completion time\n",
    "        completion_time = start + duration\n",
    "        ax.axvline(completion_time, color='red', linestyle='--')\n",
    "        ax.text(completion_time, 20, f'{completion_time}', ha='center', va='bottom', color='red')\n",
    "\n",
    "    ax.set_ylim(5, 25)\n",
    "    ax.set_xlim(0, total_time)\n",
    "    ax.set_xlabel(\"Time\")\n",
    "    ax.set_yticks([])\n",
    "    ax.set_title(\"Gantt Chart for Priority Scheduling (Non-preemptive) with Completion Times\")\n",
    "\n",
    "    plt.show()"
   ]
  },
  {
   "cell_type": "code",
   "execution_count": 4,
   "id": "34f35c9b-f417-41b0-a7d4-5b0a3a1fdd83",
   "metadata": {},
   "outputs": [],
   "source": [
    "process_list = [[5, \"A\", 8, 0], [4, \"B\", 4, 3], [1, \"C\", 5, 4], [2, \"D\", 3, 6], [3, \"E\", 2, 10]]"
   ]
  },
  {
   "cell_type": "code",
   "execution_count": 5,
   "id": "91e84cc1-9b50-49aa-b5a1-77df5df74732",
   "metadata": {},
   "outputs": [],
   "source": [
    "gantt, completed, process_timeline, avg_waiting_time, avg_turnaround_time = priority(process_list)"
   ]
  },
  {
   "cell_type": "code",
   "execution_count": 6,
   "id": "32b6ec84-4cad-4388-8805-c92545ab13b3",
   "metadata": {},
   "outputs": [
    {
     "name": "stdout",
     "output_type": "stream",
     "text": [
      "A\n",
      "8\n",
      "\n",
      "A | C\n",
      "8 | 13\n",
      "\n",
      "A | C | D\n",
      "8 | 13 | 16\n",
      "\n",
      "A | C | D | E\n",
      "8 | 13 | 16 | 18\n",
      "\n",
      "A | C | D | E | B\n",
      "8 | 13 | 16 | 18 | 22\n",
      "\n"
     ]
    }
   ],
   "source": [
    "# Display Gantt Chart and completion details\n",
    "for i in range(1, len(completed) + 1):\n",
    "    gantt_display = \" | \".join(gantt[:i])\n",
    "    print(gantt_display)\n",
    "    \n",
    "    # Display completion times for each process up to the current one\n",
    "    completion_time_display = \" | \".join(\n",
    "        f\"{completed[process_id][0]}\" for process_id in list(completed.keys())[:i]\n",
    "    )\n",
    "    print(completion_time_display)\n",
    "    print()  # For readability"
   ]
  },
  {
   "cell_type": "code",
   "execution_count": 7,
   "id": "9e961c85-4263-499b-8104-e167a2630f1b",
   "metadata": {},
   "outputs": [
    {
     "name": "stdout",
     "output_type": "stream",
     "text": [
      "Average Waiting Time: 6.4\n",
      "Average Turn Around Time: 10.8\n"
     ]
    }
   ],
   "source": [
    "print(\"Average Waiting Time:\", avg_waiting_time)\n",
    "print(\"Average Turn Around Time:\", avg_turnaround_time)"
   ]
  },
  {
   "cell_type": "code",
   "execution_count": 8,
   "id": "5702d6b6-638b-4636-8008-2487eaf26f2b",
   "metadata": {},
   "outputs": [
    {
     "name": "stdout",
     "output_type": "stream",
     "text": [
      "Completed Processes with Details:\n",
      "Process A: Completion Time = 8, Turn Around Time = 8, Waiting Time = 0\n",
      "Process C: Completion Time = 13, Turn Around Time = 9, Waiting Time = 4\n",
      "Process D: Completion Time = 16, Turn Around Time = 10, Waiting Time = 7\n",
      "Process E: Completion Time = 18, Turn Around Time = 8, Waiting Time = 6\n",
      "Process B: Completion Time = 22, Turn Around Time = 19, Waiting Time = 15\n"
     ]
    }
   ],
   "source": [
    "print(\"Completed Processes with Details:\")\n",
    "for process_id, details in completed.items():\n",
    "    print(f\"Process {process_id}: Completion Time = {details[0]}, Turn Around Time = {details[1]}, Waiting Time = {details[2]}\")"
   ]
  },
  {
   "cell_type": "code",
   "execution_count": 9,
   "id": "cfa4c1e3-bb37-4f71-8638-1da14887a6b6",
   "metadata": {},
   "outputs": [
    {
     "data": {
      "image/png": "[encoded data removed]",
      "text/plain": [
       "<Figure size 1000x300 with 1 Axes>"
      ]
     },
     "metadata": {},
     "output_type": "display_data"
    }
   ],
   "source": [
    "# Plot the Gantt chart\n",
    "plot_gantt_chart(process_timeline, completed)"
   ]
  },
  {
   "cell_type": "code",
   "execution_count": null,
   "id": "70dc67bd-609f-40de-a311-657abf8d750f",
   "metadata": {},
   "outputs": [],
   "source": []
  }
 ],
 "metadata": {
  "kernelspec": {
   "display_name": "Python 3 (ipykernel)",
   "language": "python",
   "name": "python3"
  },
  "language_info": {
   "codemirror_mode": {
    "name": "ipython",
    "version": 3
   },
   "file_extension": ".py",
   "mimetype": "text/x-python",
   "name": "python",
   "nbconvert_exporter": "python",
   "pygments_lexer": "ipython3",
   "version": "3.11.7"
  }
 },
 "nbformat": 4,
 "nbformat_minor": 5
}
